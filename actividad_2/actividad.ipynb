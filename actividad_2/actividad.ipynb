{
 "cells": [
  {
   "cell_type": "code",
   "execution_count": 1,
   "id": "7cf4d33e-5ee2-442f-92f5-be51360ae74f",
   "metadata": {
    "tags": []
   },
   "outputs": [],
   "source": [
    "import cv2 as cv"
   ]
  },
  {
   "cell_type": "code",
   "execution_count": 12,
   "id": "9b4a0a61-cac2-4412-9dea-ceb606acb165",
   "metadata": {
    "tags": []
   },
   "outputs": [
    {
     "name": "stdout",
     "output_type": "stream",
     "text": [
      "Wally detectado. Resultado guardado en /outputs.\n"
     ]
    }
   ],
   "source": [
    "wally_cascade = cv.CascadeClassifier('./haarcascade/cascadeX5.xml')\n",
    "\n",
    "# Leer la imagen del escenario\n",
    "image_path = './scenes/scene1.jpg'\n",
    "image = cv.imread(image_path)\n",
    "\n",
    "# Convertir la imagen a escala de grises\n",
    "gray = cv.cvtColor(image, cv.COLOR_BGR2GRAY)\n",
    "\n",
    "# Detectar a Wally en la imagen\n",
    "wally_apparitions = wally_cascade.detectMultiScale(gray, scaleFactor=1.01, minNeighbors=3)\n",
    "\n",
    "if len(wally_apparitions) == 0:\n",
    "    print(\"Wally no fue encontrado en la imagen.\")\n",
    "else:\n",
    "    # Dibujar rectángulos alrededor de Wally\n",
    "    i = 1\n",
    "    for (x, y, w, h) in wally_apparitions:\n",
    "        cv.rectangle(image, (x, y), (x + w, y + h), (0, 255, 0), 2)\n",
    "        \n",
    "        i = i + 1\n",
    "        \n",
    "    # Guardar la imagen de salida con los rectángulos\n",
    "    output_path = './outputs/wally_detected_' + str(i) + '.jpg'\n",
    "    cv.imwrite(output_path, image)\n",
    "    print(f\"Wally detectado. Resultado guardado en /outputs.\")\n"
   ]
  },
  {
   "cell_type": "code",
   "execution_count": null,
   "id": "af1e1c17-f0c5-4d41-812a-2a9b9330c158",
   "metadata": {},
   "outputs": [],
   "source": []
  }
 ],
 "metadata": {
  "kernelspec": {
   "display_name": "Python 3 (ipykernel)",
   "language": "python",
   "name": "python3"
  },
  "language_info": {
   "codemirror_mode": {
    "name": "ipython",
    "version": 3
   },
   "file_extension": ".py",
   "mimetype": "text/x-python",
   "name": "python",
   "nbconvert_exporter": "python",
   "pygments_lexer": "ipython3",
   "version": "3.11.5"
  }
 },
 "nbformat": 4,
 "nbformat_minor": 5
}
