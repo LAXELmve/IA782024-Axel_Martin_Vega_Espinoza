{
 "cells": [
  {
   "cell_type": "markdown",
   "id": "dea14477-f850-4aa1-9fca-4e2c3e269edb",
   "metadata": {},
   "source": [
    "# Objetivo"
   ]
  },
  {
   "cell_type": "markdown",
   "id": "d5c12abf-423a-4350-a8a0-e5e837f31407",
   "metadata": {},
   "source": [
    "En esta práctica, se debe desarrollar un código capaz de reconocer rostros en tiempo real a través de la cámara web. Los objetivos específicos son los siguientes:    \n",
    "\n",
    "## Entrenamiento del Modelo:\n",
    "* Crear un modelo de reconocimiento facial.\n",
    "* Entrenar el modelo utilizando imágenes de cinco personas distintas.\n",
    "* Asegurarse de que todas las imágenes utilizadas tengan una resolución mínima de 100 x 100 píxeles y una resolución máxima de 150 x 150 píxeles.\n",
    "\n",
    "\n",
    "## Pruebas con Tres Modelos Diferentes:\n",
    "Evaluar el rendimiento del modelo utilizando tres algoritmos distintos:\n",
    "* EigenFaceRecognizer\n",
    "* FisherFaceRecognizer\n",
    "* LBPHFaceRecognizer"
   ]
  },
  {
   "cell_type": "markdown",
   "id": "d13b583b-e8a2-44db-8d3a-4a5133ddf8c5",
   "metadata": {},
   "source": [
    "________________________"
   ]
  },
  {
   "cell_type": "markdown",
   "id": "c20319ae-5051-43e5-b77f-61ebca4bf892",
   "metadata": {},
   "source": [
    "# Desarrollo"
   ]
  },
  {
   "cell_type": "markdown",
   "id": "4b2602b9-4191-4b15-b1ba-5411a3a4968c",
   "metadata": {},
   "source": [
    "Se importan las librerías necesarias."
   ]
  },
  {
   "cell_type": "code",
   "execution_count": 1,
   "id": "5d1ebf55-76d3-483c-b375-c880812630b5",
   "metadata": {
    "tags": []
   },
   "outputs": [],
   "source": [
    "import cv2 as cv \n",
    "import numpy as np \n",
    "import os"
   ]
  },
  {
   "cell_type": "markdown",
   "id": "dde082ca-fd05-4894-add6-dca8dec78b4c",
   "metadata": {},
   "source": [
    "El siguiente código se encarga de tomar capturas de los rostros que el sistema detecte mediante la cámara web con la ayuda de un archivo ya entrenado de tipo HaarCascade para identificar los rostros:"
   ]
  },
  {
   "cell_type": "code",
   "execution_count": null,
   "id": "2480b4f9-7e2d-440a-bec8-c98bc9c29a42",
   "metadata": {},
   "outputs": [],
   "source": [
    "usuario = 'axel'"
   ]
  },
  {
   "cell_type": "code",
   "execution_count": 3,
   "id": "2c6c7817-2145-470d-a0ba-0157c5b21f49",
   "metadata": {
    "tags": []
   },
   "outputs": [],
   "source": [
    "cap = cv.VideoCapture(0)\n",
    "i = 0\n",
    "while True:\n",
    "    ret, frame = cap.read()\n",
    "    gray = cv.cvtColor(frame, cv.COLOR_BGR2GRAY)\n",
    "    rostros = rostro.detectMultiScale(gray, 1.3, 5)\n",
    "    for(x, y, w, h) in rostros:\n",
    "        #frame = cv.rectangle(frame, (x,y), (x+w, y+h), (0, 255, 0), 2)\n",
    "        frame2 = frame[y:y+h, x:x+w]\n",
    "        #cv.imshow('rostros', frame)\n",
    "        frame2 = cv.resize(frame2, (100, 100))\n",
    "        cv.imshow('rostros', frame2)\n",
    "        cv.imwrite('./saved_img/' + usuario + '/' + usuario + str(i) + '.png', frame2)\n",
    "    i = i + 1\n",
    "    k = cv.waitKey(1)\n",
    "    if k == 27:\n",
    "        break\n",
    "cap.release()\n",
    "cv.destroyAllWindows()"
   ]
  },
  {
   "cell_type": "markdown",
   "id": "ba69be41-8135-44eb-8fed-7244831fbf1e",
   "metadata": {},
   "source": [
    "En el siguiente código se inicializan las variables necesarias para ubicar y almacenar tanto las imágenes como las etiquetas respectivas para cada rostro."
   ]
  },
  {
   "cell_type": "code",
   "execution_count": 2,
   "id": "a9f1ebae-439d-415b-8599-1b37fc6a5c37",
   "metadata": {
    "tags": []
   },
   "outputs": [
    {
     "name": "stdout",
     "output_type": "stream",
     "text": [
      "['axel', 'brenda', 'dante', 'martin', 'rodrigo']\n",
      "453\n"
     ]
    }
   ],
   "source": [
    "dataSet = './caras'\n",
    "faces  = os.listdir(dataSet)\n",
    "print(faces)\n",
    "\n",
    "labels = []\n",
    "facesData = []\n",
    "label = 0 \n",
    "for face in faces:\n",
    "    facePath = dataSet+'/'+face\n",
    "    for faceName in os.listdir(facePath):\n",
    "        labels.append(label)\n",
    "        facesData.append(cv.imread(facePath+'/'+faceName,0))\n",
    "    label = label + 1\n",
    "print(np.count_nonzero(np.array(labels)==0)) "
   ]
  },
  {
   "cell_type": "markdown",
   "id": "22e30842-c96d-488d-bfe8-15a204a423bc",
   "metadata": {},
   "source": [
    "## Eigenface "
   ]
  },
  {
   "cell_type": "markdown",
   "id": "8d4ab06a-24a4-49c9-8136-69b8b313a29a",
   "metadata": {},
   "source": [
    "Este bloque de código se encarga de crear un xml de entrenamiento para detectar los rostros mediante el modelo Eigenface."
   ]
  },
  {
   "cell_type": "code",
   "execution_count": 2,
   "id": "a77588bb-ecbb-4194-9a10-3fbcd780eace",
   "metadata": {},
   "outputs": [
    {
     "name": "stdout",
     "output_type": "stream",
     "text": [
      "['axel', 'brenda', 'dante', 'martin', 'rodrigo']\n",
      "453\n"
     ]
    }
   ],
   "source": [
    "faceRecognizer = cv.face.EigenFaceRecognizer_create()\n",
    "faceRecognizer.train(facesData, np.array(labels))\n",
    "faceRecognizer.write('./modelos/CarasEigenface.xml')"
   ]
  },
  {
   "cell_type": "markdown",
   "id": "277d00a2-4323-4a94-9f0a-e456a21173ac",
   "metadata": {},
   "source": [
    "## Fisherfaces"
   ]
  },
  {
   "cell_type": "markdown",
   "id": "6b895735-518f-42a4-9a93-312e5335a8b1",
   "metadata": {},
   "source": [
    "Este bloque de código se encarga de crear un xml de entrenamiento para detectar los rostros mediante el modelo Fisherfaces."
   ]
  },
  {
   "cell_type": "code",
   "execution_count": 3,
   "id": "5752ac24-434b-43f7-b2b6-5cb09dd0a47f",
   "metadata": {},
   "outputs": [],
   "source": [
    "faceRecognizer = cv.face.FisherFaceRecognizer_create()\n",
    "faceRecognizer.train(facesData, np.array(labels))\n",
    "faceRecognizer.write('./modelos/CarasFisherface.xml')"
   ]
  },
  {
   "cell_type": "markdown",
   "id": "be5b411c-275f-4d64-b893-158f2b532a2d",
   "metadata": {},
   "source": [
    "## LBPH"
   ]
  },
  {
   "cell_type": "markdown",
   "id": "a4dfad82-f708-446e-9953-aa7b9aac1352",
   "metadata": {},
   "source": [
    "Este bloque de código se encarga de crear un xml de entrenamiento para detectar los rostros mediante el modelo LBPH."
   ]
  },
  {
   "cell_type": "code",
   "execution_count": 4,
   "id": "aaeada40-3d43-476e-9466-293d1aa2adf1",
   "metadata": {},
   "outputs": [],
   "source": [
    "faceRecognizer = cv.face.LBPHFaceRecognizer_create()\n",
    "faceRecognizer.train(facesData, np.array(labels))\n",
    "faceRecognizer.write('./modelos/CarasLBPH.xml')"
   ]
  },
  {
   "cell_type": "markdown",
   "id": "189f4ec6-f829-43e4-9569-775ab5f07fa5",
   "metadata": {},
   "source": [
    "___________"
   ]
  },
  {
   "cell_type": "markdown",
   "id": "af3158c2-9314-4bf1-9446-c6ab2d2f234f",
   "metadata": {},
   "source": [
    "# Pruebas"
   ]
  },
  {
   "cell_type": "markdown",
   "id": "2602d38c-6c5b-4ce8-b68d-b239f672b217",
   "metadata": {},
   "source": [
    "Para las pruebas de funcionamiento se desarrollaron tres bloques de código para trabajar con cada uno de los modelos:"
   ]
  },
  {
   "cell_type": "markdown",
   "id": "afc842d1-0a75-43b5-b59b-ec662d8ba2f2",
   "metadata": {},
   "source": [
    "## Eigenface "
   ]
  },
  {
   "cell_type": "code",
   "execution_count": 5,
   "id": "d01e695c-05c2-4c5c-8e75-8b3f1bb92e66",
   "metadata": {},
   "outputs": [],
   "source": [
    "faceRecognizer = cv.face.EigenFaceRecognizer_create()\n",
    "faceRecognizer.read('./modelos/CarasEigenface.xml')\n",
    "\n",
    "cap = cv.VideoCapture(0)\n",
    "rostro = cv.CascadeClassifier('./haarcascade/haarcascade_frontalface_alt.xml')\n",
    "while True:\n",
    "    ret, frame = cap.read()\n",
    "    if ret == False: break\n",
    "    gray = cv.cvtColor(frame, cv.COLOR_BGR2GRAY)\n",
    "    cpGray = gray.copy()\n",
    "    rostros = rostro.detectMultiScale(gray, 1.3, 3)\n",
    "    for(x, y, w, h) in rostros:\n",
    "        frame2 = cpGray[y:y+h, x:x+w]\n",
    "        frame2 = cv.resize(frame2,  (100,100), interpolation=cv.INTER_CUBIC)\n",
    "        result = faceRecognizer.predict(frame2)\n",
    "        #cv.putText(frame, '{}'.format(result), (x,y-20), 1,3.3, (255,255,0), 1, cv.LINE_AA)\n",
    "        if result[1] > 2800:\n",
    "            # el arreglo result es algo así: [etiqueta: 1, valor: 3000]\n",
    "            cv.putText(frame,'{}'.format(faces[result[0]]),(x,y-25),2,1.1,(0,255,0),1,cv.LINE_AA)\n",
    "            cv.rectangle(frame, (x,y),(x+w,y+h),(0,255,0),2)\n",
    "        else:\n",
    "            cv.putText(frame,'Desconocido',(x,y-20),2,0.8,(0,0,255),1,cv.LINE_AA)\n",
    "            cv.rectangle(frame, (x,y),(x+w,y+h),(0,0,255),2)\n",
    "    cv.imshow('Caras Eigenface', frame)\n",
    "    k = cv.waitKey(1)\n",
    "    if k == 27:\n",
    "        break\n",
    "cap.release()\n",
    "cv.destroyAllWindows()\n"
   ]
  },
  {
   "cell_type": "markdown",
   "id": "5c4a74fd-e137-41f6-aa37-d1a3bfdfe121",
   "metadata": {},
   "source": [
    "## Fisherfaces"
   ]
  },
  {
   "cell_type": "code",
   "execution_count": 6,
   "id": "0bbcbd25-b2b3-44ab-bd84-93e54bbd444f",
   "metadata": {},
   "outputs": [],
   "source": [
    "faceRecognizer = cv.face.FisherFaceRecognizer_create()\n",
    "faceRecognizer.read('./modelos/CarasFisherface.xml')\n",
    "\n",
    "cap = cv.VideoCapture(0)\n",
    "rostro = cv.CascadeClassifier('./haarcascade/haarcascade_frontalface_alt.xml')\n",
    "while True:\n",
    "    ret, frame = cap.read()\n",
    "    if ret == False: break\n",
    "    gray = cv.cvtColor(frame, cv.COLOR_BGR2GRAY)\n",
    "    cpGray = gray.copy()\n",
    "    rostros = rostro.detectMultiScale(gray, 1.3, 3)\n",
    "    for(x, y, w, h) in rostros:\n",
    "        frame2 = cpGray[y:y+h, x:x+w]\n",
    "        frame2 = cv.resize(frame2,  (100,100), interpolation=cv.INTER_CUBIC)\n",
    "        result = faceRecognizer.predict(frame2)\n",
    "        # cv.putText(frame, '{}'.format(result), (x,y-20), 1,3.3, (255,255,0), 1, cv.LINE_AA)\n",
    "        if result[1] > 2:\n",
    "            # el arreglo result es algo así: [etiqueta: 1, valor: 3000]\n",
    "            cv.putText(frame,'{}'.format(faces[result[0]]),(x,y-25),2,1.1,(0,255,0),1,cv.LINE_AA)\n",
    "            cv.rectangle(frame, (x,y),(x+w,y+h),(0,255,0),2)\n",
    "        else:\n",
    "            cv.putText(frame,'Desconocido',(x,y-20),2,0.8,(0,0,255),1,cv.LINE_AA)\n",
    "            cv.rectangle(frame, (x,y),(x+w,y+h),(0,0,255),2)\n",
    "    cv.imshow('Caras Fisherface', frame)\n",
    "    k = cv.waitKey(1)\n",
    "    if k == 27:\n",
    "        break\n",
    "cap.release()\n",
    "cv.destroyAllWindows()\n"
   ]
  },
  {
   "cell_type": "markdown",
   "id": "fc617c7f-60fc-4d66-8dd2-2473739b16e9",
   "metadata": {},
   "source": [
    "## LBPH"
   ]
  },
  {
   "cell_type": "code",
   "execution_count": 7,
   "id": "284f0b80-3067-41e3-b521-f5529b61e22c",
   "metadata": {
    "tags": []
   },
   "outputs": [],
   "source": [
    "faceRecognizer = cv.face.LBPHFaceRecognizer_create()\n",
    "faceRecognizer.read('./modelos/CarasLBPH.xml')\n",
    "\n",
    "cap = cv.VideoCapture(0)\n",
    "rostro = cv.CascadeClassifier('./haarcascade/haarcascade_frontalface_alt.xml')\n",
    "while True:\n",
    "    ret, frame = cap.read()\n",
    "    if ret == False: break\n",
    "    gray = cv.cvtColor(frame, cv.COLOR_BGR2GRAY)\n",
    "    cpGray = gray.copy()\n",
    "    rostros = rostro.detectMultiScale(gray, 1.3, 3)\n",
    "    for(x, y, w, h) in rostros:\n",
    "        frame2 = cpGray[y:y+h, x:x+w]\n",
    "        frame2 = cv.resize(frame2,  (100,100), interpolation=cv.INTER_CUBIC)\n",
    "        result = faceRecognizer.predict(frame2)\n",
    "        # cv.putText(frame, '{}'.format(result), (x,y-20), 1,3.3, (255,255,0), 1, cv.LINE_AA)\n",
    "        if result[1] > 80:\n",
    "            # el arreglo result es algo así: [etiqueta: 1, valor: 3000]\n",
    "            cv.putText(frame,'{}'.format(faces[result[0]]),(x,y-25),2,1.1,(0,255,0),1,cv.LINE_AA)\n",
    "            cv.rectangle(frame, (x,y),(x+w,y+h),(0,255,0),2)\n",
    "        else:\n",
    "            cv.putText(frame,'Desconocido',(x,y-20),2,0.8,(0,0,255),1,cv.LINE_AA)\n",
    "            cv.rectangle(frame, (x,y),(x+w,y+h),(0,0,255),2)\n",
    "    cv.imshow('Caras LBPH', frame)\n",
    "    k = cv.waitKey(1)\n",
    "    if k == 27:\n",
    "        break\n",
    "cap.release()\n",
    "cv.destroyAllWindows()\n"
   ]
  }
 ],
 "metadata": {
  "kernelspec": {
   "display_name": "Python 3 (ipykernel)",
   "language": "python",
   "name": "python3"
  },
  "language_info": {
   "codemirror_mode": {
    "name": "ipython",
    "version": 3
   },
   "file_extension": ".py",
   "mimetype": "text/x-python",
   "name": "python",
   "nbconvert_exporter": "python",
   "pygments_lexer": "ipython3",
   "version": "3.11.5"
  }
 },
 "nbformat": 4,
 "nbformat_minor": 5
}
